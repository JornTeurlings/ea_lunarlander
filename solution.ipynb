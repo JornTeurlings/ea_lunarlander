{
 "cells": [
  {
   "cell_type": "markdown",
   "metadata": {},
   "source": [
    "# Evolving a Lunar Lander with differentiable Genetic Programming"
   ]
  },
  {
   "cell_type": "markdown",
   "metadata": {},
   "source": [
    "## Installation\n",
    "To install the required libraries run the command:"
   ]
  },
  {
   "cell_type": "code",
   "metadata": {
    "ExecuteTime": {
     "end_time": "2024-06-07T18:24:02.565262Z",
     "start_time": "2024-06-07T18:24:00.753502Z"
    }
   },
   "source": [
    "!pip install -r requirements.txt"
   ],
   "outputs": [
    {
     "name": "stdout",
     "output_type": "stream",
     "text": [
      "Requirement already satisfied: pygame in ./venv/lib/python3.11/site-packages (from -r requirements.txt (line 1)) (2.5.2)\r\n",
      "Requirement already satisfied: pyglet==1.5.21 in ./venv/lib/python3.11/site-packages (from -r requirements.txt (line 2)) (1.5.21)\r\n",
      "Requirement already satisfied: matplotlib in ./venv/lib/python3.11/site-packages (from -r requirements.txt (line 3)) (3.9.0)\r\n",
      "Requirement already satisfied: numpy in ./venv/lib/python3.11/site-packages (from -r requirements.txt (line 4)) (1.26.4)\r\n",
      "Requirement already satisfied: scikit-learn in ./venv/lib/python3.11/site-packages (from -r requirements.txt (line 5)) (1.5.0)\r\n",
      "Requirement already satisfied: sympy>=1.9 in ./venv/lib/python3.11/site-packages (from -r requirements.txt (line 6)) (1.12)\r\n",
      "Requirement already satisfied: joblib>=1.1.0 in ./venv/lib/python3.11/site-packages (from -r requirements.txt (line 7)) (1.4.2)\r\n",
      "Requirement already satisfied: torch in ./venv/lib/python3.11/site-packages (from -r requirements.txt (line 8)) (2.3.0)\r\n",
      "Requirement already satisfied: notebook in ./venv/lib/python3.11/site-packages (from -r requirements.txt (line 9)) (7.2.0)\r\n",
      "Requirement already satisfied: swig in ./venv/lib/python3.11/site-packages (from -r requirements.txt (line 10)) (4.2.1)\r\n",
      "Requirement already satisfied: gymnasium[box2d] in ./venv/lib/python3.11/site-packages (from -r requirements.txt (line 11)) (0.29.1)\r\n",
      "Requirement already satisfied: contourpy>=1.0.1 in ./venv/lib/python3.11/site-packages (from matplotlib->-r requirements.txt (line 3)) (1.2.1)\r\n",
      "Requirement already satisfied: cycler>=0.10 in ./venv/lib/python3.11/site-packages (from matplotlib->-r requirements.txt (line 3)) (0.12.1)\r\n",
      "Requirement already satisfied: fonttools>=4.22.0 in ./venv/lib/python3.11/site-packages (from matplotlib->-r requirements.txt (line 3)) (4.51.0)\r\n",
      "Requirement already satisfied: kiwisolver>=1.3.1 in ./venv/lib/python3.11/site-packages (from matplotlib->-r requirements.txt (line 3)) (1.4.5)\r\n",
      "Requirement already satisfied: packaging>=20.0 in ./venv/lib/python3.11/site-packages (from matplotlib->-r requirements.txt (line 3)) (24.0)\r\n",
      "Requirement already satisfied: pillow>=8 in ./venv/lib/python3.11/site-packages (from matplotlib->-r requirements.txt (line 3)) (10.3.0)\r\n",
      "Requirement already satisfied: pyparsing>=2.3.1 in ./venv/lib/python3.11/site-packages (from matplotlib->-r requirements.txt (line 3)) (3.1.2)\r\n",
      "Requirement already satisfied: python-dateutil>=2.7 in ./venv/lib/python3.11/site-packages (from matplotlib->-r requirements.txt (line 3)) (2.9.0.post0)\r\n",
      "Requirement already satisfied: scipy>=1.6.0 in ./venv/lib/python3.11/site-packages (from scikit-learn->-r requirements.txt (line 5)) (1.13.0)\r\n",
      "Requirement already satisfied: threadpoolctl>=3.1.0 in ./venv/lib/python3.11/site-packages (from scikit-learn->-r requirements.txt (line 5)) (3.5.0)\r\n",
      "Requirement already satisfied: mpmath>=0.19 in ./venv/lib/python3.11/site-packages (from sympy>=1.9->-r requirements.txt (line 6)) (1.3.0)\r\n",
      "Requirement already satisfied: filelock in ./venv/lib/python3.11/site-packages (from torch->-r requirements.txt (line 8)) (3.14.0)\r\n",
      "Requirement already satisfied: typing-extensions>=4.8.0 in ./venv/lib/python3.11/site-packages (from torch->-r requirements.txt (line 8)) (4.11.0)\r\n",
      "Requirement already satisfied: networkx in ./venv/lib/python3.11/site-packages (from torch->-r requirements.txt (line 8)) (3.3)\r\n",
      "Requirement already satisfied: jinja2 in ./venv/lib/python3.11/site-packages (from torch->-r requirements.txt (line 8)) (3.1.4)\r\n",
      "Requirement already satisfied: fsspec in ./venv/lib/python3.11/site-packages (from torch->-r requirements.txt (line 8)) (2024.5.0)\r\n",
      "Requirement already satisfied: jupyter-server<3,>=2.4.0 in ./venv/lib/python3.11/site-packages (from notebook->-r requirements.txt (line 9)) (2.14.0)\r\n",
      "Requirement already satisfied: jupyterlab-server<3,>=2.27.1 in ./venv/lib/python3.11/site-packages (from notebook->-r requirements.txt (line 9)) (2.27.1)\r\n",
      "Requirement already satisfied: jupyterlab<4.3,>=4.2.0 in ./venv/lib/python3.11/site-packages (from notebook->-r requirements.txt (line 9)) (4.2.0)\r\n",
      "Requirement already satisfied: notebook-shim<0.3,>=0.2 in ./venv/lib/python3.11/site-packages (from notebook->-r requirements.txt (line 9)) (0.2.4)\r\n",
      "Requirement already satisfied: tornado>=6.2.0 in ./venv/lib/python3.11/site-packages (from notebook->-r requirements.txt (line 9)) (6.4)\r\n",
      "Requirement already satisfied: cloudpickle>=1.2.0 in ./venv/lib/python3.11/site-packages (from gymnasium[box2d]->-r requirements.txt (line 11)) (3.0.0)\r\n",
      "Requirement already satisfied: farama-notifications>=0.0.1 in ./venv/lib/python3.11/site-packages (from gymnasium[box2d]->-r requirements.txt (line 11)) (0.0.4)\r\n",
      "Requirement already satisfied: box2d-py==2.3.5 in ./venv/lib/python3.11/site-packages (from gymnasium[box2d]->-r requirements.txt (line 11)) (2.3.5)\r\n",
      "Requirement already satisfied: anyio>=3.1.0 in ./venv/lib/python3.11/site-packages (from jupyter-server<3,>=2.4.0->notebook->-r requirements.txt (line 9)) (4.3.0)\r\n",
      "Requirement already satisfied: argon2-cffi>=21.1 in ./venv/lib/python3.11/site-packages (from jupyter-server<3,>=2.4.0->notebook->-r requirements.txt (line 9)) (23.1.0)\r\n",
      "Requirement already satisfied: jupyter-client>=7.4.4 in ./venv/lib/python3.11/site-packages (from jupyter-server<3,>=2.4.0->notebook->-r requirements.txt (line 9)) (8.6.1)\r\n",
      "Requirement already satisfied: jupyter-core!=5.0.*,>=4.12 in ./venv/lib/python3.11/site-packages (from jupyter-server<3,>=2.4.0->notebook->-r requirements.txt (line 9)) (5.7.2)\r\n",
      "Requirement already satisfied: jupyter-events>=0.9.0 in ./venv/lib/python3.11/site-packages (from jupyter-server<3,>=2.4.0->notebook->-r requirements.txt (line 9)) (0.10.0)\r\n",
      "Requirement already satisfied: jupyter-server-terminals>=0.4.4 in ./venv/lib/python3.11/site-packages (from jupyter-server<3,>=2.4.0->notebook->-r requirements.txt (line 9)) (0.5.3)\r\n",
      "Requirement already satisfied: nbconvert>=6.4.4 in ./venv/lib/python3.11/site-packages (from jupyter-server<3,>=2.4.0->notebook->-r requirements.txt (line 9)) (7.16.4)\r\n",
      "Requirement already satisfied: nbformat>=5.3.0 in ./venv/lib/python3.11/site-packages (from jupyter-server<3,>=2.4.0->notebook->-r requirements.txt (line 9)) (5.10.4)\r\n",
      "Requirement already satisfied: overrides>=5.0 in ./venv/lib/python3.11/site-packages (from jupyter-server<3,>=2.4.0->notebook->-r requirements.txt (line 9)) (7.7.0)\r\n",
      "Requirement already satisfied: prometheus-client>=0.9 in ./venv/lib/python3.11/site-packages (from jupyter-server<3,>=2.4.0->notebook->-r requirements.txt (line 9)) (0.20.0)\r\n",
      "Requirement already satisfied: pyzmq>=24 in ./venv/lib/python3.11/site-packages (from jupyter-server<3,>=2.4.0->notebook->-r requirements.txt (line 9)) (26.0.3)\r\n",
      "Requirement already satisfied: send2trash>=1.8.2 in ./venv/lib/python3.11/site-packages (from jupyter-server<3,>=2.4.0->notebook->-r requirements.txt (line 9)) (1.8.3)\r\n",
      "Requirement already satisfied: terminado>=0.8.3 in ./venv/lib/python3.11/site-packages (from jupyter-server<3,>=2.4.0->notebook->-r requirements.txt (line 9)) (0.18.1)\r\n",
      "Requirement already satisfied: traitlets>=5.6.0 in ./venv/lib/python3.11/site-packages (from jupyter-server<3,>=2.4.0->notebook->-r requirements.txt (line 9)) (5.14.3)\r\n",
      "Requirement already satisfied: websocket-client>=1.7 in ./venv/lib/python3.11/site-packages (from jupyter-server<3,>=2.4.0->notebook->-r requirements.txt (line 9)) (1.8.0)\r\n",
      "Requirement already satisfied: MarkupSafe>=2.0 in ./venv/lib/python3.11/site-packages (from jinja2->torch->-r requirements.txt (line 8)) (2.1.5)\r\n",
      "Requirement already satisfied: async-lru>=1.0.0 in ./venv/lib/python3.11/site-packages (from jupyterlab<4.3,>=4.2.0->notebook->-r requirements.txt (line 9)) (2.0.4)\r\n",
      "Requirement already satisfied: httpx>=0.25.0 in ./venv/lib/python3.11/site-packages (from jupyterlab<4.3,>=4.2.0->notebook->-r requirements.txt (line 9)) (0.27.0)\r\n",
      "Requirement already satisfied: ipykernel>=6.5.0 in ./venv/lib/python3.11/site-packages (from jupyterlab<4.3,>=4.2.0->notebook->-r requirements.txt (line 9)) (6.29.4)\r\n",
      "Requirement already satisfied: jupyter-lsp>=2.0.0 in ./venv/lib/python3.11/site-packages (from jupyterlab<4.3,>=4.2.0->notebook->-r requirements.txt (line 9)) (2.2.5)\r\n",
      "Requirement already satisfied: babel>=2.10 in ./venv/lib/python3.11/site-packages (from jupyterlab-server<3,>=2.27.1->notebook->-r requirements.txt (line 9)) (2.15.0)\r\n",
      "Requirement already satisfied: json5>=0.9.0 in ./venv/lib/python3.11/site-packages (from jupyterlab-server<3,>=2.27.1->notebook->-r requirements.txt (line 9)) (0.9.25)\r\n",
      "Requirement already satisfied: jsonschema>=4.18.0 in ./venv/lib/python3.11/site-packages (from jupyterlab-server<3,>=2.27.1->notebook->-r requirements.txt (line 9)) (4.22.0)\r\n",
      "Requirement already satisfied: requests>=2.31 in ./venv/lib/python3.11/site-packages (from jupyterlab-server<3,>=2.27.1->notebook->-r requirements.txt (line 9)) (2.32.1)\r\n",
      "Requirement already satisfied: six>=1.5 in ./venv/lib/python3.11/site-packages (from python-dateutil>=2.7->matplotlib->-r requirements.txt (line 3)) (1.16.0)\r\n",
      "Requirement already satisfied: idna>=2.8 in ./venv/lib/python3.11/site-packages (from anyio>=3.1.0->jupyter-server<3,>=2.4.0->notebook->-r requirements.txt (line 9)) (3.7)\r\n",
      "Requirement already satisfied: sniffio>=1.1 in ./venv/lib/python3.11/site-packages (from anyio>=3.1.0->jupyter-server<3,>=2.4.0->notebook->-r requirements.txt (line 9)) (1.3.1)\r\n",
      "Requirement already satisfied: argon2-cffi-bindings in ./venv/lib/python3.11/site-packages (from argon2-cffi>=21.1->jupyter-server<3,>=2.4.0->notebook->-r requirements.txt (line 9)) (21.2.0)\r\n",
      "Requirement already satisfied: certifi in ./venv/lib/python3.11/site-packages (from httpx>=0.25.0->jupyterlab<4.3,>=4.2.0->notebook->-r requirements.txt (line 9)) (2024.2.2)\r\n",
      "Requirement already satisfied: httpcore==1.* in ./venv/lib/python3.11/site-packages (from httpx>=0.25.0->jupyterlab<4.3,>=4.2.0->notebook->-r requirements.txt (line 9)) (1.0.5)\r\n",
      "Requirement already satisfied: h11<0.15,>=0.13 in ./venv/lib/python3.11/site-packages (from httpcore==1.*->httpx>=0.25.0->jupyterlab<4.3,>=4.2.0->notebook->-r requirements.txt (line 9)) (0.14.0)\r\n",
      "Requirement already satisfied: appnope in ./venv/lib/python3.11/site-packages (from ipykernel>=6.5.0->jupyterlab<4.3,>=4.2.0->notebook->-r requirements.txt (line 9)) (0.1.4)\r\n",
      "Requirement already satisfied: comm>=0.1.1 in ./venv/lib/python3.11/site-packages (from ipykernel>=6.5.0->jupyterlab<4.3,>=4.2.0->notebook->-r requirements.txt (line 9)) (0.2.2)\r\n",
      "Requirement already satisfied: debugpy>=1.6.5 in ./venv/lib/python3.11/site-packages (from ipykernel>=6.5.0->jupyterlab<4.3,>=4.2.0->notebook->-r requirements.txt (line 9)) (1.8.1)\r\n",
      "Requirement already satisfied: ipython>=7.23.1 in ./venv/lib/python3.11/site-packages (from ipykernel>=6.5.0->jupyterlab<4.3,>=4.2.0->notebook->-r requirements.txt (line 9)) (8.24.0)\r\n",
      "Requirement already satisfied: matplotlib-inline>=0.1 in ./venv/lib/python3.11/site-packages (from ipykernel>=6.5.0->jupyterlab<4.3,>=4.2.0->notebook->-r requirements.txt (line 9)) (0.1.7)\r\n",
      "Requirement already satisfied: nest-asyncio in ./venv/lib/python3.11/site-packages (from ipykernel>=6.5.0->jupyterlab<4.3,>=4.2.0->notebook->-r requirements.txt (line 9)) (1.6.0)\r\n",
      "Requirement already satisfied: psutil in ./venv/lib/python3.11/site-packages (from ipykernel>=6.5.0->jupyterlab<4.3,>=4.2.0->notebook->-r requirements.txt (line 9)) (5.9.8)\r\n",
      "Requirement already satisfied: attrs>=22.2.0 in ./venv/lib/python3.11/site-packages (from jsonschema>=4.18.0->jupyterlab-server<3,>=2.27.1->notebook->-r requirements.txt (line 9)) (23.2.0)\r\n",
      "Requirement already satisfied: jsonschema-specifications>=2023.03.6 in ./venv/lib/python3.11/site-packages (from jsonschema>=4.18.0->jupyterlab-server<3,>=2.27.1->notebook->-r requirements.txt (line 9)) (2023.12.1)\r\n",
      "Requirement already satisfied: referencing>=0.28.4 in ./venv/lib/python3.11/site-packages (from jsonschema>=4.18.0->jupyterlab-server<3,>=2.27.1->notebook->-r requirements.txt (line 9)) (0.35.1)\r\n",
      "Requirement already satisfied: rpds-py>=0.7.1 in ./venv/lib/python3.11/site-packages (from jsonschema>=4.18.0->jupyterlab-server<3,>=2.27.1->notebook->-r requirements.txt (line 9)) (0.18.1)\r\n",
      "Requirement already satisfied: platformdirs>=2.5 in ./venv/lib/python3.11/site-packages (from jupyter-core!=5.0.*,>=4.12->jupyter-server<3,>=2.4.0->notebook->-r requirements.txt (line 9)) (4.2.2)\r\n",
      "Requirement already satisfied: python-json-logger>=2.0.4 in ./venv/lib/python3.11/site-packages (from jupyter-events>=0.9.0->jupyter-server<3,>=2.4.0->notebook->-r requirements.txt (line 9)) (2.0.7)\r\n",
      "Requirement already satisfied: pyyaml>=5.3 in ./venv/lib/python3.11/site-packages (from jupyter-events>=0.9.0->jupyter-server<3,>=2.4.0->notebook->-r requirements.txt (line 9)) (6.0.1)\r\n",
      "Requirement already satisfied: rfc3339-validator in ./venv/lib/python3.11/site-packages (from jupyter-events>=0.9.0->jupyter-server<3,>=2.4.0->notebook->-r requirements.txt (line 9)) (0.1.4)\r\n",
      "Requirement already satisfied: rfc3986-validator>=0.1.1 in ./venv/lib/python3.11/site-packages (from jupyter-events>=0.9.0->jupyter-server<3,>=2.4.0->notebook->-r requirements.txt (line 9)) (0.1.1)\r\n",
      "Requirement already satisfied: beautifulsoup4 in ./venv/lib/python3.11/site-packages (from nbconvert>=6.4.4->jupyter-server<3,>=2.4.0->notebook->-r requirements.txt (line 9)) (4.12.3)\r\n",
      "Requirement already satisfied: bleach!=5.0.0 in ./venv/lib/python3.11/site-packages (from nbconvert>=6.4.4->jupyter-server<3,>=2.4.0->notebook->-r requirements.txt (line 9)) (6.1.0)\r\n",
      "Requirement already satisfied: defusedxml in ./venv/lib/python3.11/site-packages (from nbconvert>=6.4.4->jupyter-server<3,>=2.4.0->notebook->-r requirements.txt (line 9)) (0.7.1)\r\n",
      "Requirement already satisfied: jupyterlab-pygments in ./venv/lib/python3.11/site-packages (from nbconvert>=6.4.4->jupyter-server<3,>=2.4.0->notebook->-r requirements.txt (line 9)) (0.3.0)\r\n",
      "Requirement already satisfied: mistune<4,>=2.0.3 in ./venv/lib/python3.11/site-packages (from nbconvert>=6.4.4->jupyter-server<3,>=2.4.0->notebook->-r requirements.txt (line 9)) (3.0.2)\r\n",
      "Requirement already satisfied: nbclient>=0.5.0 in ./venv/lib/python3.11/site-packages (from nbconvert>=6.4.4->jupyter-server<3,>=2.4.0->notebook->-r requirements.txt (line 9)) (0.10.0)\r\n",
      "Requirement already satisfied: pandocfilters>=1.4.1 in ./venv/lib/python3.11/site-packages (from nbconvert>=6.4.4->jupyter-server<3,>=2.4.0->notebook->-r requirements.txt (line 9)) (1.5.1)\r\n",
      "Requirement already satisfied: pygments>=2.4.1 in ./venv/lib/python3.11/site-packages (from nbconvert>=6.4.4->jupyter-server<3,>=2.4.0->notebook->-r requirements.txt (line 9)) (2.18.0)\r\n",
      "Requirement already satisfied: tinycss2 in ./venv/lib/python3.11/site-packages (from nbconvert>=6.4.4->jupyter-server<3,>=2.4.0->notebook->-r requirements.txt (line 9)) (1.3.0)\r\n",
      "Requirement already satisfied: fastjsonschema>=2.15 in ./venv/lib/python3.11/site-packages (from nbformat>=5.3.0->jupyter-server<3,>=2.4.0->notebook->-r requirements.txt (line 9)) (2.19.1)\r\n",
      "Requirement already satisfied: charset-normalizer<4,>=2 in ./venv/lib/python3.11/site-packages (from requests>=2.31->jupyterlab-server<3,>=2.27.1->notebook->-r requirements.txt (line 9)) (3.3.2)\r\n",
      "Requirement already satisfied: urllib3<3,>=1.21.1 in ./venv/lib/python3.11/site-packages (from requests>=2.31->jupyterlab-server<3,>=2.27.1->notebook->-r requirements.txt (line 9)) (2.2.1)\r\n",
      "Requirement already satisfied: ptyprocess in ./venv/lib/python3.11/site-packages (from terminado>=0.8.3->jupyter-server<3,>=2.4.0->notebook->-r requirements.txt (line 9)) (0.7.0)\r\n",
      "Requirement already satisfied: webencodings in ./venv/lib/python3.11/site-packages (from bleach!=5.0.0->nbconvert>=6.4.4->jupyter-server<3,>=2.4.0->notebook->-r requirements.txt (line 9)) (0.5.1)\r\n",
      "Requirement already satisfied: decorator in ./venv/lib/python3.11/site-packages (from ipython>=7.23.1->ipykernel>=6.5.0->jupyterlab<4.3,>=4.2.0->notebook->-r requirements.txt (line 9)) (5.1.1)\r\n",
      "Requirement already satisfied: jedi>=0.16 in ./venv/lib/python3.11/site-packages (from ipython>=7.23.1->ipykernel>=6.5.0->jupyterlab<4.3,>=4.2.0->notebook->-r requirements.txt (line 9)) (0.19.1)\r\n",
      "Requirement already satisfied: prompt-toolkit<3.1.0,>=3.0.41 in ./venv/lib/python3.11/site-packages (from ipython>=7.23.1->ipykernel>=6.5.0->jupyterlab<4.3,>=4.2.0->notebook->-r requirements.txt (line 9)) (3.0.43)\r\n",
      "Requirement already satisfied: stack-data in ./venv/lib/python3.11/site-packages (from ipython>=7.23.1->ipykernel>=6.5.0->jupyterlab<4.3,>=4.2.0->notebook->-r requirements.txt (line 9)) (0.6.3)\r\n",
      "Requirement already satisfied: pexpect>4.3 in ./venv/lib/python3.11/site-packages (from ipython>=7.23.1->ipykernel>=6.5.0->jupyterlab<4.3,>=4.2.0->notebook->-r requirements.txt (line 9)) (4.9.0)\r\n",
      "Requirement already satisfied: fqdn in ./venv/lib/python3.11/site-packages (from jsonschema>=4.18.0->jupyterlab-server<3,>=2.27.1->notebook->-r requirements.txt (line 9)) (1.5.1)\r\n",
      "Requirement already satisfied: isoduration in ./venv/lib/python3.11/site-packages (from jsonschema>=4.18.0->jupyterlab-server<3,>=2.27.1->notebook->-r requirements.txt (line 9)) (20.11.0)\r\n",
      "Requirement already satisfied: jsonpointer>1.13 in ./venv/lib/python3.11/site-packages (from jsonschema>=4.18.0->jupyterlab-server<3,>=2.27.1->notebook->-r requirements.txt (line 9)) (2.4)\r\n",
      "Requirement already satisfied: uri-template in ./venv/lib/python3.11/site-packages (from jsonschema>=4.18.0->jupyterlab-server<3,>=2.27.1->notebook->-r requirements.txt (line 9)) (1.3.0)\r\n",
      "Requirement already satisfied: webcolors>=1.11 in ./venv/lib/python3.11/site-packages (from jsonschema>=4.18.0->jupyterlab-server<3,>=2.27.1->notebook->-r requirements.txt (line 9)) (1.13)\r\n",
      "Requirement already satisfied: cffi>=1.0.1 in ./venv/lib/python3.11/site-packages (from argon2-cffi-bindings->argon2-cffi>=21.1->jupyter-server<3,>=2.4.0->notebook->-r requirements.txt (line 9)) (1.16.0)\r\n",
      "Requirement already satisfied: soupsieve>1.2 in ./venv/lib/python3.11/site-packages (from beautifulsoup4->nbconvert>=6.4.4->jupyter-server<3,>=2.4.0->notebook->-r requirements.txt (line 9)) (2.5)\r\n",
      "Requirement already satisfied: pycparser in ./venv/lib/python3.11/site-packages (from cffi>=1.0.1->argon2-cffi-bindings->argon2-cffi>=21.1->jupyter-server<3,>=2.4.0->notebook->-r requirements.txt (line 9)) (2.22)\r\n",
      "Requirement already satisfied: parso<0.9.0,>=0.8.3 in ./venv/lib/python3.11/site-packages (from jedi>=0.16->ipython>=7.23.1->ipykernel>=6.5.0->jupyterlab<4.3,>=4.2.0->notebook->-r requirements.txt (line 9)) (0.8.4)\r\n",
      "Requirement already satisfied: wcwidth in ./venv/lib/python3.11/site-packages (from prompt-toolkit<3.1.0,>=3.0.41->ipython>=7.23.1->ipykernel>=6.5.0->jupyterlab<4.3,>=4.2.0->notebook->-r requirements.txt (line 9)) (0.2.13)\r\n",
      "Requirement already satisfied: arrow>=0.15.0 in ./venv/lib/python3.11/site-packages (from isoduration->jsonschema>=4.18.0->jupyterlab-server<3,>=2.27.1->notebook->-r requirements.txt (line 9)) (1.3.0)\r\n",
      "Requirement already satisfied: executing>=1.2.0 in ./venv/lib/python3.11/site-packages (from stack-data->ipython>=7.23.1->ipykernel>=6.5.0->jupyterlab<4.3,>=4.2.0->notebook->-r requirements.txt (line 9)) (2.0.1)\r\n",
      "Requirement already satisfied: asttokens>=2.1.0 in ./venv/lib/python3.11/site-packages (from stack-data->ipython>=7.23.1->ipykernel>=6.5.0->jupyterlab<4.3,>=4.2.0->notebook->-r requirements.txt (line 9)) (2.4.1)\r\n",
      "Requirement already satisfied: pure-eval in ./venv/lib/python3.11/site-packages (from stack-data->ipython>=7.23.1->ipykernel>=6.5.0->jupyterlab<4.3,>=4.2.0->notebook->-r requirements.txt (line 9)) (0.2.2)\r\n",
      "Requirement already satisfied: types-python-dateutil>=2.8.10 in ./venv/lib/python3.11/site-packages (from arrow>=0.15.0->isoduration->jsonschema>=4.18.0->jupyterlab-server<3,>=2.27.1->notebook->-r requirements.txt (line 9)) (2.9.0.20240316)\r\n",
      "\r\n",
      "\u001B[1m[\u001B[0m\u001B[34;49mnotice\u001B[0m\u001B[1;39;49m]\u001B[0m\u001B[39;49m A new release of pip is available: \u001B[0m\u001B[31;49m23.2.1\u001B[0m\u001B[39;49m -> \u001B[0m\u001B[32;49m24.0\u001B[0m\r\n",
      "\u001B[1m[\u001B[0m\u001B[34;49mnotice\u001B[0m\u001B[1;39;49m]\u001B[0m\u001B[39;49m To update, run: \u001B[0m\u001B[32;49mpip install --upgrade pip\u001B[0m\r\n"
     ]
    }
   ],
   "execution_count": 21
  },
  {
   "cell_type": "markdown",
   "metadata": {},
   "source": [
    "## Imports\n",
    "Imports from the standard genepro-multi library are done here. Any adjustments (e.g. different operators) should be made in the notebook. For example:\n",
    "\n",
    "```\n",
    "class SmoothOperator(Node):\n",
    "  def __init__(self):\n",
    "    super(SmoothOperator,self).__init__()\n",
    "    self.arity = 1\n",
    "    self.symb = \"SmoothOperator\"\n",
    "\n",
    "  def _get_args_repr(self, args):\n",
    "    return self._get_typical_repr(args,'before')\n",
    "\n",
    "  def get_output(self, X):\n",
    "    c_outs = self._get_child_outputs(X)\n",
    "    return np.smoothOperation(c_outs[0])\n",
    "\n",
    "  def get_output_pt(self, X):\n",
    "    c_outs = self._get_child_outputs_pt(X)\n",
    "    return torch.smoothOperation(c_outs[0])\n",
    "```"
   ]
  },
  {
   "cell_type": "code",
   "metadata": {
    "ExecuteTime": {
     "end_time": "2024-06-07T18:24:02.570089Z",
     "start_time": "2024-06-07T18:24:02.566819Z"
    }
   },
   "source": [
    "import gymnasium as gym\n",
    "\n",
    "from genepro.node_impl import *\n",
    "from genepro.evo import Evolution\n",
    "from genepro.node_impl import Constant\n",
    "\n",
    "import torch\n",
    "import torch.optim as optim\n",
    "\n",
    "import random\n",
    "import os\n",
    "import copy\n",
    "from collections import namedtuple, deque\n",
    "\n",
    "import matplotlib.pyplot as plt\n",
    "from matplotlib import animation"
   ],
   "outputs": [],
   "execution_count": 22
  },
  {
   "cell_type": "markdown",
   "metadata": {},
   "source": [
    "## Reinforcement Learning Setup\n",
    "Here we first setup the Gymnasium environment. Please see https://gymnasium.farama.org/environments/box2d/lunar_lander/ for more information on the environment. \n",
    "\n",
    "Then a memory buffer is made. This is a buffer in which state transitions are stored. When the buffer reaches its maximum capacity old transitions are replaced by new ones.\n",
    "\n",
    "A frame buffer is initialised used to later store animation frames of the environment."
   ]
  },
  {
   "cell_type": "code",
   "metadata": {
    "ExecuteTime": {
     "end_time": "2024-06-07T18:24:02.574351Z",
     "start_time": "2024-06-07T18:24:02.570945Z"
    }
   },
   "source": [
    "env = gym.make(\"LunarLander-v2\", render_mode=\"rgb_array\")"
   ],
   "outputs": [],
   "execution_count": 23
  },
  {
   "cell_type": "code",
   "metadata": {
    "ExecuteTime": {
     "end_time": "2024-06-07T18:24:02.578949Z",
     "start_time": "2024-06-07T18:24:02.575906Z"
    }
   },
   "source": [
    "Transition = namedtuple('Transition', ('state', 'action', 'next_state', 'reward'))\n",
    "\n",
    "\n",
    "class ReplayMemory(object):\n",
    "    def __init__(self, capacity):\n",
    "        self.memory = deque([], maxlen=capacity)\n",
    "\n",
    "    def push(self, *args):\n",
    "        \"\"\"Save a transition\"\"\"\n",
    "        self.memory.append(Transition(*args))\n",
    "\n",
    "    def sample(self, batch_size):\n",
    "        return random.sample(self.memory, batch_size)\n",
    "\n",
    "    def __len__(self):\n",
    "        return len(self.memory)\n",
    "\n",
    "    def __iadd__(self, other):\n",
    "        self.memory += other.memory\n",
    "        return self\n",
    "\n",
    "    def __add__(self, other):\n",
    "        self.memory = self.memory + other.memory\n",
    "        return self"
   ],
   "outputs": [],
   "execution_count": 24
  },
  {
   "cell_type": "code",
   "metadata": {
    "ExecuteTime": {
     "end_time": "2024-06-07T18:24:02.580927Z",
     "start_time": "2024-06-07T18:24:02.579452Z"
    }
   },
   "source": [
    "frames = []"
   ],
   "outputs": [],
   "execution_count": 25
  },
  {
   "cell_type": "markdown",
   "metadata": {},
   "source": [
    "## Fitness Function\n",
    "\n",
    "Here you get to be creative. The default setup evaluates 5 episodes of 300 frames. Think of what action to pick and what fitness function to use. The Multi-tree takes an input of $n \\times d$ where $n$ is a batch of size 1."
   ]
  },
  {
   "cell_type": "code",
   "metadata": {
    "ExecuteTime": {
     "end_time": "2024-06-07T18:24:02.585259Z",
     "start_time": "2024-06-07T18:24:02.581519Z"
    }
   },
   "source": [
    "def fitness_function_pt(multitree, num_episodes=5, episode_duration=300, render=False, ignore_done=False):\n",
    "    memory = ReplayMemory(10000)\n",
    "    rewards = []\n",
    "\n",
    "    for _ in range(num_episodes):\n",
    "        # get initial state of the environment\n",
    "        observation = env.reset()\n",
    "        observation = observation[0]\n",
    "\n",
    "        for _ in range(episode_duration):\n",
    "            if render:\n",
    "                frames.append(env.render())\n",
    "\n",
    "            input_sample = torch.from_numpy(observation.reshape((1, -1))).float()\n",
    "\n",
    "            # what goes here? TODO\n",
    "            action = torch.argmax(multitree.get_output_pt(input_sample))\n",
    "            observation, reward, terminated, truncated, info = env.step(action.item())\n",
    "            rewards.append(reward)\n",
    "            output_sample = torch.from_numpy(observation.reshape((1, -1))).float()\n",
    "            memory.push(input_sample, torch.tensor([[action.item()]]), output_sample, torch.tensor([reward]))\n",
    "            if (terminated or truncated) and not ignore_done:\n",
    "                break\n",
    "\n",
    "    fitness = np.sum(rewards)\n",
    "\n",
    "    return fitness, memory"
   ],
   "outputs": [],
   "execution_count": 26
  },
  {
   "cell_type": "markdown",
   "metadata": {},
   "source": [
    "### Selection Strategies"
   ]
  },
  {
   "cell_type": "code",
   "metadata": {
    "ExecuteTime": {
     "end_time": "2024-06-07T18:27:01.196068Z",
     "start_time": "2024-06-07T18:27:01.185588Z"
    }
   },
   "source": [
    "from genepro.selection import *\n",
    "\n",
    "## All different selection methodologies considered\n",
    "elitist_selection_default = {\"fun\": elitist_selection}\n",
    "tournament_select_default = {\"fun\": tournament_selection_with_elitism, \"kwargs\": {\"tournament_size\": 8, \"elitism_rate\": 0.05}}\n",
    "linear_ranking_select_default = {\"fun\": linear_ranking_selection_with_elitism, \"kwargs\": {\"s\": 1.5, \"elitism_rate\": 0.05}}\n",
    "exponential_ranking_select_default = {\"fun\": exponential_ranking_selection_with_elitism, \"kwargs\": {\"c\": 0.5, \"k\": 0.5, \"elitism_rate\": 0.05}}\n",
    "random_select_default = {\"fun\": random_selection, \"kwargs\": {}}\n",
    "roulette_wheel_select_default = {\"fun\": roulette_wheel_selection, \"kwargs\": {\"with_stochastic_acc\": False}}\n",
    "roulette_wheel_select_wsa_default = {\"fun\": roulette_wheel_selection, \"kwargs\": {\"with_stochastic_acc\": True}}\n",
    "\n"
   ],
   "outputs": [],
   "execution_count": 30
  },
  {
   "cell_type": "markdown",
   "metadata": {},
   "source": [
    "## Evolution Setup\n",
    "Here the leaf and internal nodes are defined. Think about the odds of sampling a constant in this default configurations. Also think about any operators that could be useful and add them here. \n",
    "\n",
    "Adjust the population size (multiple of 8 if you want to use the standard tournament selection), max generations and max tree size to taste. Be aware that each of these settings can increase the runtime."
   ]
  },
  {
   "cell_type": "code",
   "metadata": {
    "ExecuteTime": {
     "end_time": "2024-06-07T18:27:02.949854Z",
     "start_time": "2024-06-07T18:27:02.946330Z"
    }
   },
   "source": [
    "num_features = env.observation_space.shape[0]\n",
    "leaf_nodes = [Feature(i) for i in range(num_features)]\n",
    "leaf_nodes = leaf_nodes + [Constant()]  # Think about the probability of sampling a coefficient\n",
    "internal_nodes = [Plus(), Minus(), Times(), Div()]  #Add your own operators here\n",
    "\n",
    "generations = 8\n",
    "population_size = 8\n",
    "max_tree_size = 40\n",
    "\n",
    "# TODO: Elitist selection 'elitist_selection': elitist_selection_default,\n",
    "\n",
    "sel_list = {\n",
    "            # 'ES': elitist_selection_default,\n",
    "            # 'TS+E': tournament_select_default,\n",
    "            # 'LR+E': linear_ranking_select_default,\n",
    "            'ER+E': exponential_ranking_select_default,\n",
    "            # 'RS': random_select_default,\n",
    "            # 'RW': roulette_wheel_select_default,\n",
    "            # 'RWSA': roulette_wheel_select_wsa_default\n",
    "            }\n",
    "\n",
    "evo_list = {}\n",
    "for name, sel in sel_list.items():\n",
    "    evo_list[name] = Evolution(\n",
    "        fitness_function_pt,\n",
    "        internal_nodes,\n",
    "        leaf_nodes,\n",
    "        4,\n",
    "        pop_size=population_size,\n",
    "        max_gens=generations,\n",
    "        max_tree_size=max_tree_size,\n",
    "        n_jobs=12,\n",
    "        verbose=True,\n",
    "        selection=sel\n",
    "    )"
   ],
   "outputs": [],
   "execution_count": 31
  },
  {
   "cell_type": "markdown",
   "metadata": {},
   "source": [
    "## Evolve\n",
    "Running this cell will use all the settings above as parameters"
   ]
  },
  {
   "cell_type": "code",
   "metadata": {
    "ExecuteTime": {
     "end_time": "2024-06-07T18:27:32.608215Z",
     "start_time": "2024-06-07T18:27:04.990636Z"
    }
   },
   "source": [
    "[evo.evolve() for evo in evo_list.values()]"
   ],
   "outputs": [
    {
     "name": "stdout",
     "output_type": "stream",
     "text": [
      "Selected: [Multitree(), Multitree(), Multitree(), Multitree(), Multitree(), Multitree(), Multitree(), Multitree()]\n",
      "gen: 1,\tbest of gen fitness: -982.559,\tbest of gen size: 23\n",
      "Selected: [Multitree(), Multitree(), Multitree(), Multitree(), Multitree(), Multitree(), Multitree(), Multitree()]\n",
      "gen: 2,\tbest of gen fitness: -958.550,\tbest of gen size: 33\n",
      "Selected: [Multitree(), Multitree(), Multitree(), Multitree(), Multitree(), Multitree(), Multitree(), Multitree()]\n",
      "gen: 3,\tbest of gen fitness: -1054.508,\tbest of gen size: 23\n",
      "Selected: [Multitree(), Multitree(), Multitree(), Multitree(), Multitree(), Multitree(), Multitree(), Multitree()]\n",
      "gen: 4,\tbest of gen fitness: -778.861,\tbest of gen size: 31\n",
      "Selected: [Multitree(), Multitree(), Multitree(), Multitree(), Multitree(), Multitree(), Multitree(), Multitree()]\n",
      "gen: 5,\tbest of gen fitness: -829.148,\tbest of gen size: 39\n",
      "Selected: [Multitree(), Multitree(), Multitree(), Multitree(), Multitree(), Multitree(), Multitree(), Multitree()]\n",
      "gen: 6,\tbest of gen fitness: -801.115,\tbest of gen size: 39\n",
      "Selected: [Multitree(), Multitree(), Multitree(), Multitree(), Multitree(), Multitree(), Multitree(), Multitree()]\n",
      "gen: 7,\tbest of gen fitness: -586.261,\tbest of gen size: 37\n",
      "Selected: [Multitree(), Multitree(), Multitree(), Multitree(), Multitree(), Multitree(), Multitree(), Multitree()]\n",
      "gen: 8,\tbest of gen fitness: -739.564,\tbest of gen size: 37\n"
     ]
    },
    {
     "data": {
      "text/plain": [
       "[None]"
      ]
     },
     "execution_count": 32,
     "metadata": {},
     "output_type": "execute_result"
    }
   ],
   "execution_count": 32
  },
  {
   "metadata": {},
   "cell_type": "markdown",
   "source": "## Save results"
  },
  {
   "metadata": {
    "ExecuteTime": {
     "end_time": "2024-06-07T18:24:05.561188Z",
     "start_time": "2024-06-07T18:24:05.561135Z"
    }
   },
   "cell_type": "code",
   "source": [
    "import pandas as pd\n",
    "def save_to_file(evolution, filename):\n",
    "    dataframe = pd.DataFrame({\n",
    "        'Best Fitness': evolution.best_fitness,\n",
    "        'Average Fitness': evolution.average_of_gens,\n",
    "        'Diversity Fitness': evolution.diversity_of_fitness,\n",
    "        'Diversity Population': evolution.diversity_of_population,\n",
    "        'Time spent': evolution.elapsed_time\n",
    "    })\n",
    "    dataframe.to_csv(filename)\n",
    "        \n",
    "for name, evo in evo_list.items():\n",
    "    save_to_file(evo, f'{name}_{generations}_{population_size}_{max_tree_size}.csv')"
   ],
   "outputs": [],
   "execution_count": null
  },
  {
   "cell_type": "markdown",
   "metadata": {},
   "source": [
    "### Graph results\n"
   ]
  },
  {
   "cell_type": "code",
   "metadata": {},
   "source": [
    "# Indexing for the generations\n",
    "generation_index = np.arange(1, generations + 2)\n",
    "\n",
    "# Best fitness\n",
    "plt.figure()\n",
    "for name, sel in sel_list.items():\n",
    "    plt.plot(generation_index, evo_list[name].best_fitness, label=f'{name}')\n",
    "plt.xlabel('Generations')\n",
    "plt.ylabel('Fitness')\n",
    "plt.title('Best Fitness over generations')\n",
    "plt.legend()\n",
    "plt.show()\n",
    "\n",
    "# Mean fitness\n",
    "plt.figure()\n",
    "for name, sel in sel_list.items():\n",
    "    plt.plot(generation_index, evo_list[name].average_of_gens, label=f'{name}')\n",
    "plt.xlabel('Generations')\n",
    "plt.ylabel('Fitness')\n",
    "plt.title('Mean Fitness over generations')\n",
    "plt.legend()\n",
    "plt.show()\n",
    "\n",
    "# Variability in fitness\n",
    "plt.figure()\n",
    "for name, sel in sel_list.items():\n",
    "    plt.plot(generation_index, evo_list[name].diversity_of_fitness, label=f'{name}')\n",
    "plt.xlabel('Generations')\n",
    "plt.ylabel('Variance in fitness')\n",
    "plt.title('Variability in Fitness over generations')\n",
    "plt.legend()\n",
    "plt.show()\n",
    "\n",
    "# Variability in trees\n",
    "plt.figure()\n",
    "for name, sel in sel_list.items():\n",
    "    plt.plot(generation_index, evo_list[name].diversity_of_population, label=f'{name}')\n",
    "plt.xlabel('Generations')\n",
    "plt.ylabel('Distance ')\n",
    "plt.title('Hamiltonian distance over generations')\n",
    "plt.legend()\n",
    "plt.show()\n",
    "\n",
    "# Box plot different methods\n",
    "plt.figure()\n",
    "final_fitness_data = [[x.fitness for x in evo_list[name].population] for name, sel in sel_list.items() ]\n",
    "plt.boxplot(final_fitness_data, tick_labels=sel_list.keys())\n",
    "plt.xlabel('Selection methods')\n",
    "plt.ylabel('Fitness')\n",
    "plt.title('Box Plot of Final Fitness')\n",
    "plt.show()"
   ],
   "outputs": [],
   "execution_count": null
  },
  {
   "cell_type": "markdown",
   "metadata": {},
   "source": [
    "# Test"
   ]
  },
  {
   "cell_type": "code",
   "metadata": {},
   "source": [
    "def get_test_score(tree):\n",
    "    rewards = []\n",
    "\n",
    "    for i in range(10):\n",
    "        # get initial state\n",
    "        observation = env.reset(seed=i)\n",
    "        observation = observation[0]\n",
    "\n",
    "        for _ in range(500):\n",
    "            # build up the input sample for GP\n",
    "            input_sample = torch.from_numpy(observation.reshape((1, -1))).float()\n",
    "            # get output (squeezing because it is encapsulated in an array)\n",
    "            output = tree.get_output_pt(input_sample)\n",
    "            action = torch.argmax(output)\n",
    "            observation, reward, terminated, truncated, info = env.step(action.item())\n",
    "            rewards.append(reward)\n",
    "\n",
    "            output_sample = torch.from_numpy(observation.reshape((1, -1))).float()\n",
    "            if (terminated or truncated):\n",
    "                break\n",
    "\n",
    "    fitness = np.sum(rewards)\n",
    "\n",
    "    return fitness\n",
    "\n",
    "\n",
    "best = evo.best_of_gens[-1]\n",
    "\n",
    "print(best.get_readable_repr())\n",
    "print(get_test_score(best))"
   ],
   "outputs": [],
   "execution_count": null
  },
  {
   "cell_type": "markdown",
   "metadata": {},
   "source": [
    "## Make an animation\n",
    "Here the best evolved individual is selected and one episode is rendered. Make sure to save your lunar landers over time to track progress and make comparisons."
   ]
  },
  {
   "cell_type": "code",
   "metadata": {},
   "source": [
    "frames = []\n",
    "\n",
    "\n",
    "# gist to save gif from https://gist.github.com/botforge/64cbb71780e6208172bbf03cd9293553\n",
    "def save_frames_as_gif(frames, path='./', filename='evolved_lander.gif'):\n",
    "    plt.figure(figsize=(frames[0].shape[1] / 72.0, frames[0].shape[0] / 72.0), dpi=72)\n",
    "    patch = plt.imshow(frames[0])\n",
    "    plt.axis('off')\n",
    "\n",
    "    def animate(i):\n",
    "        patch.set_data(frames[i])\n",
    "\n",
    "    anim = animation.FuncAnimation(plt.gcf(), animate, frames=len(frames), interval=50)\n",
    "    anim.save(path + filename, writer='imagemagick', fps=60)\n",
    "\n",
    "\n",
    "frames = []\n",
    "fitness_function_pt(best, num_episodes=1, episode_duration=500, render=True, ignore_done=False)\n",
    "env.close()\n",
    "save_frames_as_gif(frames)"
   ],
   "outputs": [],
   "execution_count": null
  },
  {
   "cell_type": "markdown",
   "metadata": {},
   "source": [
    "## Play animation"
   ]
  },
  {
   "cell_type": "markdown",
   "metadata": {},
   "source": [
    "<img src=\"evolved_lander.gif\" width=\"750\">"
   ]
  },
  {
   "cell_type": "markdown",
   "metadata": {},
   "source": [
    "## Optimisation\n",
    "The coefficients in the multi-tree aren't optimised. Here Q-learning (taken from https://pytorch.org/tutorials/intermediate/reinforcement_q_learning.html) is used to optimise the weights further. Incorporate coefficient optimisation in training your agent(s). Coefficient Optimisation can be expensive. Think about how often you want to optimise, when, which individuals etc."
   ]
  },
  {
   "cell_type": "code",
   "metadata": {},
   "source": [
    "batch_size = 128\n",
    "GAMMA = 0.99\n",
    "\n",
    "constants = best.get_subtrees_consts()\n",
    "\n",
    "if len(constants) > 0:\n",
    "    optimizer = optim.AdamW(constants, lr=1e-3, amsgrad=True)\n",
    "\n",
    "for _ in range(500):\n",
    "\n",
    "    if len(constants) > 0 and len(evo.memory) > batch_size:\n",
    "        target_tree = copy.deepcopy(best)\n",
    "\n",
    "        transitions = evo.memory.sample(batch_size)\n",
    "        batch = Transition(*zip(*transitions))\n",
    "\n",
    "        non_final_mask = torch.tensor(tuple(map(lambda s: s is not None,\n",
    "                                                batch.next_state)), dtype=torch.bool)\n",
    "\n",
    "        non_final_next_states = torch.cat([s for s in batch.next_state\n",
    "                                           if s is not None])\n",
    "        state_batch = torch.cat(batch.state)\n",
    "        action_batch = torch.cat(batch.action)\n",
    "        reward_batch = torch.cat(batch.reward)\n",
    "\n",
    "        state_action_values = best.get_output_pt(state_batch).gather(1, action_batch)\n",
    "        next_state_values = torch.zeros(batch_size, dtype=torch.float)\n",
    "        with torch.no_grad():\n",
    "            next_state_values[non_final_mask] = target_tree.get_output_pt(non_final_next_states).max(1)[0].float()\n",
    "\n",
    "        expected_state_action_values = (next_state_values * GAMMA) + reward_batch\n",
    "\n",
    "        criterion = nn.SmoothL1Loss()\n",
    "        loss = criterion(state_action_values, expected_state_action_values.unsqueeze(1))\n",
    "\n",
    "        # Optimize the model\n",
    "        optimizer.zero_grad()\n",
    "        loss.backward()\n",
    "        torch.nn.utils.clip_grad_value_(constants, 100)\n",
    "        optimizer.step()\n",
    "\n",
    "print(best.get_readable_repr())\n",
    "print(get_test_score(best))"
   ],
   "outputs": [],
   "execution_count": null
  },
  {
   "cell_type": "code",
   "metadata": {},
   "source": [
    "frames = []\n",
    "fitness_function_pt(best, num_episodes=1, episode_duration=500, render=True, ignore_done=False)\n",
    "env.close()\n",
    "save_frames_as_gif(frames, filename='evolved_lander_RL.gif')"
   ],
   "outputs": [],
   "execution_count": null
  },
  {
   "cell_type": "markdown",
   "metadata": {},
   "source": [
    "<img src=\"evolved_lander_RL.gif\" width=\"750\">"
   ]
  },
  {
   "cell_type": "code",
   "metadata": {},
   "source": [],
   "outputs": [],
   "execution_count": null
  },
  {
   "cell_type": "code",
   "metadata": {},
   "source": [],
   "outputs": [],
   "execution_count": null
  }
 ],
 "metadata": {
  "kernelspec": {
   "display_name": "Python 3 (ipykernel)",
   "language": "python",
   "name": "python3"
  },
  "language_info": {
   "codemirror_mode": {
    "name": "ipython",
    "version": 3
   },
   "file_extension": ".py",
   "mimetype": "text/x-python",
   "name": "python",
   "nbconvert_exporter": "python",
   "pygments_lexer": "ipython3",
   "version": "3.11.9"
  }
 },
 "nbformat": 4,
 "nbformat_minor": 4
}
