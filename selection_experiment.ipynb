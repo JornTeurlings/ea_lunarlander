{
 "cells": [
  {
   "cell_type": "markdown",
   "metadata": {},
   "source": [
    "# Evolving a Lunar Lander with differentiable Genetic Programming"
   ]
  },
  {
   "cell_type": "markdown",
   "metadata": {},
   "source": [
    "## Installation\n",
    "To install the required libraries run the command:"
   ]
  },
  {
   "cell_type": "code",
   "execution_count": null,
   "metadata": {
    "ExecuteTime": {
     "end_time": "2024-06-07T18:24:02.565262Z",
     "start_time": "2024-06-07T18:24:00.753502Z"
    }
   },
   "outputs": [],
   "source": [
    "!pip install -r requirements.txt"
   ]
  },
  {
   "cell_type": "markdown",
   "metadata": {},
   "source": [
    "## Imports\n",
    "Imports from the standard genepro-multi library are done here. Any adjustments (e.g. different operators) should be made in the notebook. For example:\n",
    "\n",
    "```\n",
    "class SmoothOperator(Node):\n",
    "  def __init__(self):\n",
    "    super(SmoothOperator,self).__init__()\n",
    "    self.arity = 1\n",
    "    self.symb = \"SmoothOperator\"\n",
    "\n",
    "  def _get_args_repr(self, args):\n",
    "    return self._get_typical_repr(args,'before')\n",
    "\n",
    "  def get_output(self, X):\n",
    "    c_outs = self._get_child_outputs(X)\n",
    "    return np.smoothOperation(c_outs[0])\n",
    "\n",
    "  def get_output_pt(self, X):\n",
    "    c_outs = self._get_child_outputs_pt(X)\n",
    "    return torch.smoothOperation(c_outs[0])\n",
    "```"
   ]
  },
  {
   "cell_type": "code",
   "execution_count": null,
   "metadata": {
    "ExecuteTime": {
     "end_time": "2024-06-07T18:24:02.570089Z",
     "start_time": "2024-06-07T18:24:02.566819Z"
    }
   },
   "outputs": [],
   "source": [
    "import gymnasium as gym\n",
    "\n",
    "from genepro.node_impl import *\n",
    "from genepro.evo import Evolution\n",
    "from genepro.node_impl import Constant\n",
    "\n",
    "import torch\n",
    "import torch.optim as optim\n",
    "\n",
    "import random\n",
    "import os\n",
    "import copy\n",
    "from collections import namedtuple, deque\n",
    "\n",
    "import matplotlib.pyplot as plt\n",
    "from matplotlib import animation"
   ]
  },
  {
   "cell_type": "markdown",
   "metadata": {},
   "source": [
    "## Reinforcement Learning Setup\n",
    "Here we first setup the Gymnasium environment. Please see https://gymnasium.farama.org/environments/box2d/lunar_lander/ for more information on the environment. \n",
    "\n",
    "Then a memory buffer is made. This is a buffer in which state transitions are stored. When the buffer reaches its maximum capacity old transitions are replaced by new ones.\n",
    "\n",
    "A frame buffer is initialised used to later store animation frames of the environment."
   ]
  },
  {
   "cell_type": "code",
   "execution_count": null,
   "metadata": {
    "ExecuteTime": {
     "end_time": "2024-06-07T18:24:02.574351Z",
     "start_time": "2024-06-07T18:24:02.570945Z"
    }
   },
   "outputs": [],
   "source": [
    "env = gym.make(\"LunarLander-v2\", render_mode=\"rgb_array\")"
   ]
  },
  {
   "cell_type": "code",
   "execution_count": null,
   "metadata": {
    "ExecuteTime": {
     "end_time": "2024-06-07T18:24:02.578949Z",
     "start_time": "2024-06-07T18:24:02.575906Z"
    }
   },
   "outputs": [],
   "source": [
    "Transition = namedtuple('Transition', ('state', 'action', 'next_state', 'reward'))\n",
    "\n",
    "\n",
    "class ReplayMemory(object):\n",
    "    def __init__(self, capacity):\n",
    "        self.memory = deque([], maxlen=capacity)\n",
    "\n",
    "    def push(self, *args):\n",
    "        \"\"\"Save a transition\"\"\"\n",
    "        self.memory.append(Transition(*args))\n",
    "\n",
    "    def sample(self, batch_size):\n",
    "        return random.sample(self.memory, batch_size)\n",
    "\n",
    "    def __len__(self):\n",
    "        return len(self.memory)\n",
    "\n",
    "    def __iadd__(self, other):\n",
    "        self.memory += other.memory\n",
    "        return self\n",
    "\n",
    "    def __add__(self, other):\n",
    "        self.memory = self.memory + other.memory\n",
    "        return self"
   ]
  },
  {
   "cell_type": "code",
   "execution_count": null,
   "metadata": {
    "ExecuteTime": {
     "end_time": "2024-06-07T18:24:02.580927Z",
     "start_time": "2024-06-07T18:24:02.579452Z"
    }
   },
   "outputs": [],
   "source": [
    "frames = []"
   ]
  },
  {
   "cell_type": "markdown",
   "metadata": {},
   "source": [
    "## Fitness Function\n",
    "\n",
    "Here you get to be creative. The default setup evaluates 5 episodes of 300 frames. Think of what action to pick and what fitness function to use. The Multi-tree takes an input of $n \\times d$ where $n$ is a batch of size 1."
   ]
  },
  {
   "cell_type": "code",
   "execution_count": null,
   "metadata": {
    "ExecuteTime": {
     "end_time": "2024-06-07T18:24:02.585259Z",
     "start_time": "2024-06-07T18:24:02.581519Z"
    }
   },
   "outputs": [],
   "source": [
    "def fitness_function_pt(multitree, num_episodes=5, episode_duration=300, render=False, ignore_done=False):\n",
    "    memory = ReplayMemory(10000)\n",
    "    rewards = []\n",
    "\n",
    "    for _ in range(num_episodes):\n",
    "        # get initial state of the environment\n",
    "        observation = env.reset()\n",
    "        observation = observation[0]\n",
    "\n",
    "        for _ in range(episode_duration):\n",
    "            if render:\n",
    "                frames.append(env.render())\n",
    "\n",
    "            input_sample = torch.from_numpy(observation.reshape((1, -1))).float()\n",
    "\n",
    "            # what goes here? TODO\n",
    "            action = torch.argmax(multitree.get_output_pt(input_sample))\n",
    "            observation, reward, terminated, truncated, info = env.step(action.item())\n",
    "            rewards.append(reward)\n",
    "            output_sample = torch.from_numpy(observation.reshape((1, -1))).float()\n",
    "            memory.push(input_sample, torch.tensor([[action.item()]]), output_sample, torch.tensor([reward]))\n",
    "            if (terminated or truncated) and not ignore_done:\n",
    "                break\n",
    "\n",
    "    fitness = np.sum(rewards)\n",
    "\n",
    "    return fitness, memory"
   ]
  },
  {
   "cell_type": "markdown",
   "metadata": {},
   "source": [
    "### Selection Strategies"
   ]
  },
  {
   "cell_type": "code",
   "execution_count": null,
   "metadata": {
    "ExecuteTime": {
     "end_time": "2024-06-07T18:27:01.196068Z",
     "start_time": "2024-06-07T18:27:01.185588Z"
    }
   },
   "outputs": [],
   "source": [
    "from genepro.selection import *\n",
    "\n",
    "## All different selection methodologies considered\n",
    "elitist_selection_default = {\"fun\": elitist_selection}\n",
    "tournament_select_default = {\"fun\": tournament_selection_with_elitism, \"kwargs\": {\"tournament_size\": 8, \"elitism_rate\": 0.05}}\n",
    "linear_ranking_select_default = {\"fun\": linear_ranking_selection_with_elitism, \"kwargs\": {\"s\": 1.5, \"elitism_rate\": 0.05}}\n",
    "exponential_ranking_select_default = {\"fun\": exponential_ranking_selection_with_elitism, \"kwargs\": {\"c\": 0.5, \"k\": 0.5, \"elitism_rate\": 0.05}}\n",
    "random_select_default = {\"fun\": random_selection, \"kwargs\": {}}\n",
    "roulette_wheel_select_default = {\"fun\": roulette_wheel_selection, \"kwargs\": {\"with_stochastic_acc\": False}}\n",
    "roulette_wheel_select_wsa_default = {\"fun\": roulette_wheel_selection, \"kwargs\": {\"with_stochastic_acc\": True}}\n",
    "\n"
   ]
  },
  {
   "cell_type": "markdown",
   "metadata": {},
   "source": [
    "## Evolution Setup\n",
    "Here the leaf and internal nodes are defined. Think about the odds of sampling a constant in this default configurations. Also think about any operators that could be useful and add them here. \n",
    "\n",
    "Adjust the population size (multiple of 8 if you want to use the standard tournament selection), max generations and max tree size to taste. Be aware that each of these settings can increase the runtime."
   ]
  },
  {
   "cell_type": "code",
   "execution_count": null,
   "metadata": {
    "ExecuteTime": {
     "end_time": "2024-06-07T18:27:02.949854Z",
     "start_time": "2024-06-07T18:27:02.946330Z"
    }
   },
   "outputs": [],
   "source": [
    "num_features = env.observation_space.shape[0]\n",
    "leaf_nodes = [Feature(i) for i in range(num_features)]\n",
    "leaf_nodes = leaf_nodes + [Constant()]  # Think about the probability of sampling a coefficient\n",
    "internal_nodes = [Plus(), Minus(), Times(), Div()]  #Add your own operators here\n",
    "\n",
    "generations = 8\n",
    "population_size = 8\n",
    "max_tree_size = 40\n",
    "\n",
    "sel_list = {\n",
    "            'ES': elitist_selection_default,\n",
    "            'TS+E': tournament_select_default,\n",
    "            'LR+E': linear_ranking_select_default,\n",
    "            'ER+E': exponential_ranking_select_default,\n",
    "            'RS': random_select_default,\n",
    "            'RW': roulette_wheel_select_default,\n",
    "            'RWSA': roulette_wheel_select_wsa_default\n",
    "            }\n",
    "\n",
    "evo_list = {}\n",
    "for name, sel in sel_list.items():\n",
    "    evo_list[name] = Evolution(\n",
    "        fitness_function_pt,\n",
    "        internal_nodes,\n",
    "        leaf_nodes,\n",
    "        4,\n",
    "        pop_size=population_size,\n",
    "        max_gens=generations,\n",
    "        max_tree_size=max_tree_size,\n",
    "        n_jobs=12,\n",
    "        verbose=True,\n",
    "        selection=sel\n",
    "    )"
   ]
  },
  {
   "cell_type": "markdown",
   "metadata": {},
   "source": [
    "## Evolve\n",
    "Running this cell will use all the settings above as parameters"
   ]
  },
  {
   "cell_type": "code",
   "execution_count": null,
   "metadata": {
    "ExecuteTime": {
     "end_time": "2024-06-07T18:27:32.608215Z",
     "start_time": "2024-06-07T18:27:04.990636Z"
    }
   },
   "outputs": [],
   "source": [
    "[evo.evolve() for evo in evo_list.values()]"
   ]
  },
  {
   "cell_type": "markdown",
   "metadata": {},
   "source": [
    "## Save results"
   ]
  },
  {
   "cell_type": "code",
   "execution_count": null,
   "metadata": {
    "ExecuteTime": {
     "end_time": "2024-06-07T18:24:05.561188Z",
     "start_time": "2024-06-07T18:24:05.561135Z"
    }
   },
   "outputs": [],
   "source": [
    "import pandas as pd\n",
    "def save_to_file(evolution, filename):\n",
    "    dataframe = pd.DataFrame({\n",
    "        'Best Fitness': evolution.best_fitness,\n",
    "        'Average Fitness': evolution.average_of_gens,\n",
    "        'Diversity Fitness': evolution.diversity_of_fitness,\n",
    "        'Diversity Population': evolution.diversity_of_population,\n",
    "        'Time spent': evolution.elapsed_time\n",
    "    })\n",
    "    dataframe.to_csv(filename)\n",
    "        \n",
    "for name, evo in evo_list.items():\n",
    "    save_to_file(evo, f'{name}_{generations}_{population_size}_{max_tree_size}.csv')"
   ]
  },
  {
   "cell_type": "markdown",
   "metadata": {},
   "source": [
    "### Graph results\n"
   ]
  },
  {
   "cell_type": "code",
   "execution_count": null,
   "metadata": {},
   "outputs": [],
   "source": [
    "# Indexing for the generations\n",
    "generation_index = np.arange(1, generations + 2)\n",
    "\n",
    "# Best fitness\n",
    "plt.figure()\n",
    "for name, sel in sel_list.items():\n",
    "    plt.plot(generation_index, evo_list[name].best_fitness, label=f'{name}')\n",
    "plt.xlabel('Generations')\n",
    "plt.ylabel('Fitness')\n",
    "plt.title('Best Fitness over generations')\n",
    "plt.legend()\n",
    "plt.show()\n",
    "\n",
    "# Mean fitness\n",
    "plt.figure()\n",
    "for name, sel in sel_list.items():\n",
    "    plt.plot(generation_index, evo_list[name].average_of_gens, label=f'{name}')\n",
    "plt.xlabel('Generations')\n",
    "plt.ylabel('Fitness')\n",
    "plt.title('Mean Fitness over generations')\n",
    "plt.legend()\n",
    "plt.show()\n",
    "\n",
    "# Variability in fitness\n",
    "plt.figure()\n",
    "for name, sel in sel_list.items():\n",
    "    plt.plot(generation_index, evo_list[name].diversity_of_fitness, label=f'{name}')\n",
    "plt.xlabel('Generations')\n",
    "plt.ylabel('Variance in fitness')\n",
    "plt.title('Variability in Fitness over generations')\n",
    "plt.legend()\n",
    "plt.show()\n",
    "\n",
    "# Variability in trees\n",
    "plt.figure()\n",
    "for name, sel in sel_list.items():\n",
    "    plt.plot(generation_index, evo_list[name].diversity_of_population, label=f'{name}')\n",
    "plt.xlabel('Generations')\n",
    "plt.ylabel('Distance ')\n",
    "plt.title('Hamiltonian distance over generations')\n",
    "plt.legend()\n",
    "plt.show()\n",
    "\n",
    "# Box plot different methods\n",
    "plt.figure()\n",
    "final_fitness_data = [[x.fitness for x in evo_list[name].population] for name, sel in sel_list.items() ]\n",
    "plt.boxplot(final_fitness_data, tick_labels=sel_list.keys())\n",
    "plt.xlabel('Selection methods')\n",
    "plt.ylabel('Fitness')\n",
    "plt.title('Box Plot of Final Fitness')\n",
    "plt.show()"
   ]
  },
  {
   "cell_type": "markdown",
   "metadata": {},
   "source": [
    "# Test"
   ]
  },
  {
   "cell_type": "code",
   "execution_count": null,
   "metadata": {},
   "outputs": [],
   "source": [
    "def get_test_score(tree):\n",
    "    rewards = []\n",
    "\n",
    "    for i in range(10):\n",
    "        # get initial state\n",
    "        observation = env.reset(seed=i)\n",
    "        observation = observation[0]\n",
    "\n",
    "        for _ in range(500):\n",
    "            # build up the input sample for GP\n",
    "            input_sample = torch.from_numpy(observation.reshape((1, -1))).float()\n",
    "            # get output (squeezing because it is encapsulated in an array)\n",
    "            output = tree.get_output_pt(input_sample)\n",
    "            action = torch.argmax(output)\n",
    "            observation, reward, terminated, truncated, info = env.step(action.item())\n",
    "            rewards.append(reward)\n",
    "\n",
    "            output_sample = torch.from_numpy(observation.reshape((1, -1))).float()\n",
    "            if (terminated or truncated):\n",
    "                break\n",
    "\n",
    "    fitness = np.sum(rewards)\n",
    "\n",
    "    return fitness\n",
    "\n",
    "\n",
    "best = evo.best_of_gens[-1]\n",
    "\n",
    "print(best.get_readable_repr())\n",
    "print(get_test_score(best))"
   ]
  },
  {
   "cell_type": "markdown",
   "metadata": {},
   "source": [
    "## Make an animation\n",
    "Here the best evolved individual is selected and one episode is rendered. Make sure to save your lunar landers over time to track progress and make comparisons."
   ]
  },
  {
   "cell_type": "code",
   "execution_count": null,
   "metadata": {},
   "outputs": [],
   "source": [
    "frames = []\n",
    "\n",
    "\n",
    "# gist to save gif from https://gist.github.com/botforge/64cbb71780e6208172bbf03cd9293553\n",
    "def save_frames_as_gif(frames, path='./', filename='evolved_lander.gif'):\n",
    "    plt.figure(figsize=(frames[0].shape[1] / 72.0, frames[0].shape[0] / 72.0), dpi=72)\n",
    "    patch = plt.imshow(frames[0])\n",
    "    plt.axis('off')\n",
    "\n",
    "    def animate(i):\n",
    "        patch.set_data(frames[i])\n",
    "\n",
    "    anim = animation.FuncAnimation(plt.gcf(), animate, frames=len(frames), interval=50)\n",
    "    anim.save(path + filename, writer='imagemagick', fps=60)\n",
    "\n",
    "\n",
    "frames = []\n",
    "fitness_function_pt(best, num_episodes=1, episode_duration=500, render=True, ignore_done=False)\n",
    "env.close()\n",
    "save_frames_as_gif(frames)"
   ]
  },
  {
   "cell_type": "markdown",
   "metadata": {},
   "source": [
    "## Play animation"
   ]
  },
  {
   "cell_type": "markdown",
   "metadata": {},
   "source": [
    "<img src=\"evolved_lander.gif\" width=\"750\">"
   ]
  },
  {
   "cell_type": "markdown",
   "metadata": {},
   "source": [
    "## Optimisation\n",
    "The coefficients in the multi-tree aren't optimised. Here Q-learning (taken from https://pytorch.org/tutorials/intermediate/reinforcement_q_learning.html) is used to optimise the weights further. Incorporate coefficient optimisation in training your agent(s). Coefficient Optimisation can be expensive. Think about how often you want to optimise, when, which individuals etc."
   ]
  },
  {
   "cell_type": "code",
   "execution_count": null,
   "metadata": {},
   "outputs": [],
   "source": [
    "batch_size = 128\n",
    "GAMMA = 0.99\n",
    "\n",
    "constants = best.get_subtrees_consts()\n",
    "\n",
    "if len(constants) > 0:\n",
    "    optimizer = optim.AdamW(constants, lr=1e-3, amsgrad=True)\n",
    "\n",
    "for _ in range(500):\n",
    "\n",
    "    if len(constants) > 0 and len(evo.memory) > batch_size:\n",
    "        target_tree = copy.deepcopy(best)\n",
    "\n",
    "        transitions = evo.memory.sample(batch_size)\n",
    "        batch = Transition(*zip(*transitions))\n",
    "\n",
    "        non_final_mask = torch.tensor(tuple(map(lambda s: s is not None,\n",
    "                                                batch.next_state)), dtype=torch.bool)\n",
    "\n",
    "        non_final_next_states = torch.cat([s for s in batch.next_state\n",
    "                                           if s is not None])\n",
    "        state_batch = torch.cat(batch.state)\n",
    "        action_batch = torch.cat(batch.action)\n",
    "        reward_batch = torch.cat(batch.reward)\n",
    "\n",
    "        state_action_values = best.get_output_pt(state_batch).gather(1, action_batch)\n",
    "        next_state_values = torch.zeros(batch_size, dtype=torch.float)\n",
    "        with torch.no_grad():\n",
    "            next_state_values[non_final_mask] = target_tree.get_output_pt(non_final_next_states).max(1)[0].float()\n",
    "\n",
    "        expected_state_action_values = (next_state_values * GAMMA) + reward_batch\n",
    "\n",
    "        criterion = nn.SmoothL1Loss()\n",
    "        loss = criterion(state_action_values, expected_state_action_values.unsqueeze(1))\n",
    "\n",
    "        # Optimize the model\n",
    "        optimizer.zero_grad()\n",
    "        loss.backward()\n",
    "        torch.nn.utils.clip_grad_value_(constants, 100)\n",
    "        optimizer.step()\n",
    "\n",
    "print(best.get_readable_repr())\n",
    "print(get_test_score(best))"
   ]
  },
  {
   "cell_type": "code",
   "execution_count": null,
   "metadata": {},
   "outputs": [],
   "source": [
    "frames = []\n",
    "fitness_function_pt(best, num_episodes=1, episode_duration=500, render=True, ignore_done=False)\n",
    "env.close()\n",
    "save_frames_as_gif(frames, filename='evolved_lander_RL.gif')"
   ]
  },
  {
   "cell_type": "markdown",
   "metadata": {},
   "source": [
    "<img src=\"evolved_lander_RL.gif\" width=\"750\">"
   ]
  },
  {
   "cell_type": "code",
   "execution_count": null,
   "metadata": {},
   "outputs": [],
   "source": []
  },
  {
   "cell_type": "code",
   "execution_count": null,
   "metadata": {},
   "outputs": [],
   "source": []
  }
 ],
 "metadata": {
  "kernelspec": {
   "display_name": "Python 3 (ipykernel)",
   "language": "python",
   "name": "python3"
  },
  "language_info": {
   "codemirror_mode": {
    "name": "ipython",
    "version": 3
   },
   "file_extension": ".py",
   "mimetype": "text/x-python",
   "name": "python",
   "nbconvert_exporter": "python",
   "pygments_lexer": "ipython3",
   "version": "3.9.13"
  }
 },
 "nbformat": 4,
 "nbformat_minor": 4
}
